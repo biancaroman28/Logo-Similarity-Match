{
 "cells": [
  {
   "cell_type": "markdown",
   "id": "79765cd4",
   "metadata": {},
   "source": [
    "# Logo Similarity Project"
   ]
  },
  {
   "cell_type": "code",
   "execution_count": 2,
   "id": "74c3a311",
   "metadata": {},
   "outputs": [],
   "source": [
    "import os\n",
    "import pandas as pd\n",
    "import requests\n",
    "from tqdm import tqdm\n",
    "from PIL import Image, ImageDraw\n",
    "import imagehash\n",
    "from collections import defaultdict\n",
    "import json\n"
   ]
  },
  {
   "cell_type": "markdown",
   "id": "e994c7bd",
   "metadata": {},
   "source": [
    "## Load Dataset\n",
    "We start by loading a CSV file containing the list of website domains."
   ]
  },
  {
   "cell_type": "code",
   "execution_count": 4,
   "id": "9b015e23",
   "metadata": {},
   "outputs": [
    {
     "name": "stdout",
     "output_type": "stream",
     "text": [
      "Loaded 3416 domains.\n"
     ]
    }
   ],
   "source": [
    "df = pd.read_parquet(\"logos.snappy.parquet\")\n",
    "df.to_csv(\"logos.csv\", index=False)\n",
    "df = pd.read_csv(\"logos.csv\")  \n",
    "domains = df[\"domain\"].dropna().unique().tolist()\n",
    "print(f\"Loaded {len(domains)} domains.\")\n"
   ]
  },
  {
   "cell_type": "markdown",
   "id": "5f681684",
   "metadata": {},
   "source": [
    "## Download Logos\n",
    "\n",
    "Download each logo using: \n",
    "1. [Clearbit Logo API](https://clearbit.com/docs#logo-api)\n",
    "2. Google’s favicon service (as a backup)"
   ]
  },
  {
   "cell_type": "code",
   "execution_count": 5,
   "id": "53740bf8",
   "metadata": {},
   "outputs": [
    {
     "name": "stderr",
     "output_type": "stream",
     "text": [
      "Downloading logos: 100%|██████████| 3416/3416 [44:07<00:00,  1.29it/s]    \n"
     ]
    }
   ],
   "source": [
    "os.makedirs(\"logos\", exist_ok=True)\n",
    "\n",
    "def fetch_logo(domain, save_path):\n",
    "    sources = [\n",
    "        f\"https://logo.clearbit.com/{domain}\",\n",
    "        f\"https://www.google.com/s2/favicons?sz=128&domain={domain}\"\n",
    "    ]\n",
    "    for url in sources:\n",
    "        try:\n",
    "            resp = requests.get(url, timeout=5)\n",
    "            if resp.status_code == 200 and resp.content:\n",
    "                with open(save_path, \"wb\") as f:\n",
    "                    f.write(resp.content)\n",
    "                return True\n",
    "        except:\n",
    "            continue\n",
    "    return False\n",
    "\n",
    "success_count = 0\n",
    "logo_status = {}\n",
    "\n",
    "for domain in tqdm(domains, desc=\"Downloading logos\"):\n",
    "    path = f\"logos/{domain}.png\"\n",
    "    if os.path.exists(path):\n",
    "        logo_status[domain] = True\n",
    "        success_count += 1\n",
    "        continue\n",
    "    if fetch_logo(domain, path):\n",
    "        logo_status[domain] = True\n",
    "        success_count += 1\n",
    "    else:\n",
    "        logo_status[domain] = False\n"
   ]
  },
  {
   "cell_type": "markdown",
   "id": "7559e4af",
   "metadata": {},
   "source": [
    "### See how many logos are successfully extracted\n",
    "\n",
    "\n"
   ]
  },
  {
   "cell_type": "code",
   "execution_count": 6,
   "id": "9b5166e2",
   "metadata": {},
   "outputs": [
    {
     "name": "stdout",
     "output_type": "stream",
     "text": [
      "Successfully downloaded: 3282/3416 logos (96.08%)\n"
     ]
    }
   ],
   "source": [
    "total = len(domains)\n",
    "print(f\"Successfully downloaded: {success_count}/{total} logos ({success_count / total:.2%})\")\n"
   ]
  },
  {
   "cell_type": "markdown",
   "id": "b0208291",
   "metadata": {},
   "source": [
    "## Hashing Logos\n",
    "\n",
    "We use perceptual hashing to create a fingerprint of each logo image.\n",
    "This allows us to compare how visually similar two logos are.\n"
   ]
  },
  {
   "cell_type": "code",
   "execution_count": 7,
   "id": "c1e3bcb1",
   "metadata": {},
   "outputs": [
    {
     "name": "stderr",
     "output_type": "stream",
     "text": [
      "c:\\Users\\win10\\AppData\\Local\\Programs\\Python\\Python313\\Lib\\site-packages\\PIL\\Image.py:1045: UserWarning: Palette images with Transparency expressed in bytes should be converted to RGBA images\n",
      "  warnings.warn(\n"
     ]
    }
   ],
   "source": [
    "hashes = {}\n",
    "for domain in domains:\n",
    "    path = f\"logos/{domain}.png\"\n",
    "    if not os.path.exists(path):\n",
    "        continue\n",
    "    try:\n",
    "        img = Image.open(path).convert(\"L\").resize((64, 64))\n",
    "        h = imagehash.phash(img)\n",
    "        hashes[domain] = h\n",
    "    except Exception as e:\n",
    "        print(f\"Error processing {domain}: {e}\")\n"
   ]
  },
  {
   "cell_type": "markdown",
   "id": "690e3899",
   "metadata": {},
   "source": [
    "## Group Similar Logos\n",
    "\n",
    "We compare hashes using Hamming Distance (how many bits differ).  \n",
    "If two logos have a distance of 5 or less, we group them together."
   ]
  },
  {
   "cell_type": "code",
   "execution_count": 8,
   "id": "e9232dad",
   "metadata": {},
   "outputs": [
    {
     "name": "stdout",
     "output_type": "stream",
     "text": [
      "Created 1929 groups.\n"
     ]
    }
   ],
   "source": [
    "SIMILARITY_THRESHOLD = 5\n",
    "visited = set()\n",
    "groups = []\n",
    "\n",
    "domain_list = list(hashes.keys())\n",
    "for i, d1 in enumerate(domain_list):\n",
    "    if d1 in visited:\n",
    "        continue\n",
    "    group = [d1]\n",
    "    visited.add(d1)\n",
    "    for j in range(i + 1, len(domain_list)):\n",
    "        d2 = domain_list[j]\n",
    "        if d2 in visited:\n",
    "            continue\n",
    "        if hashes[d1] - hashes[d2] <= SIMILARITY_THRESHOLD:\n",
    "            group.append(d2)\n",
    "            visited.add(d2)\n",
    "    groups.append(group)\n",
    "\n",
    "for domain in domains:\n",
    "    if domain not in [d for g in groups for d in g]:\n",
    "        groups.append([domain])\n",
    "\n",
    "print(f\"Created {len(groups)} groups.\")\n"
   ]
  },
  {
   "cell_type": "markdown",
   "id": "586685d8",
   "metadata": {},
   "source": [
    "## Visualize Logo Groups\n",
    "\n",
    "We create a small preview image for each group, showing all logos in that group.\n"
   ]
  },
  {
   "cell_type": "code",
   "execution_count": 9,
   "id": "2d33a83b",
   "metadata": {},
   "outputs": [
    {
     "name": "stdout",
     "output_type": "stream",
     "text": [
      "Previews saved in 'group_previews/' folder.\n"
     ]
    }
   ],
   "source": [
    "os.makedirs(\"group_previews\", exist_ok=True)\n",
    "\n",
    "def create_group_preview(group, index):\n",
    "    images = []\n",
    "    for domain in group:\n",
    "        path = f\"logos/{domain}.png\"\n",
    "        if not os.path.exists(path):\n",
    "            continue\n",
    "        try:\n",
    "            img = Image.open(path).convert(\"RGBA\").resize((128, 128))\n",
    "            draw = ImageDraw.Draw(img)\n",
    "            draw.text((5, 5), domain[:15], fill=\"black\")\n",
    "            images.append(img)\n",
    "        except:\n",
    "            continue\n",
    "    if images:\n",
    "        width = 128 * len(images)\n",
    "        combined = Image.new(\"RGBA\", (width, 128), (255, 255, 255, 0))\n",
    "        for i, img in enumerate(images):\n",
    "            combined.paste(img, (i * 128, 0))\n",
    "        combined.save(f\"group_previews/group_{index:03d}.png\")\n",
    "\n",
    "for i, group in enumerate(groups):\n",
    "    create_group_preview(group, i)\n",
    "\n",
    "print(\"Previews saved in 'group_previews/' folder.\")\n"
   ]
  },
  {
   "cell_type": "markdown",
   "id": "a46fb398",
   "metadata": {},
   "source": [
    "## Save Group Results\n",
    "\n",
    "We save all grouped domains to a JSON file.\n"
   ]
  },
  {
   "cell_type": "code",
   "execution_count": 10,
   "id": "d133f3b4",
   "metadata": {},
   "outputs": [
    {
     "name": "stdout",
     "output_type": "stream",
     "text": [
      "Saved as 'similar_logo_groups.json'\n"
     ]
    }
   ],
   "source": [
    "with open(\"similar_logo_groups.json\", \"w\") as f:\n",
    "    json.dump(groups, f, indent=2)\n",
    "print(\"Saved as 'similar_logo_groups.json'\")\n"
   ]
  }
 ],
 "metadata": {
  "kernelspec": {
   "display_name": "Python 3",
   "language": "python",
   "name": "python3"
  },
  "language_info": {
   "codemirror_mode": {
    "name": "ipython",
    "version": 3
   },
   "file_extension": ".py",
   "mimetype": "text/x-python",
   "name": "python",
   "nbconvert_exporter": "python",
   "pygments_lexer": "ipython3",
   "version": "3.13.1"
  }
 },
 "nbformat": 4,
 "nbformat_minor": 5
}
